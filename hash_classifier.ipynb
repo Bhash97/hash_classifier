{
 "cells": [
  {
   "cell_type": "code",
   "execution_count": 1,
   "id": "32734737-5e27-4f37-84b0-ae1c33accbb8",
   "metadata": {},
   "outputs": [],
   "source": [
    "import pandas as pd\n",
    "from sklearn.model_selection import train_test_split, GridSearchCV, StratifiedKFold\n",
    "from sklearn.preprocessing import StandardScaler, LabelEncoder\n",
    "from sklearn.metrics import classification_report, confusion_matrix\n",
    "from tensorflow.keras.models import Sequential\n",
    "from tensorflow.keras.layers import Dense\n",
    "from tensorflow.keras.callbacks import EarlyStopping\n",
    "from scikeras.wrappers import KerasClassifier\n",
    "import tensorflow as tf\n",
    "from sklearn.utils.class_weight import compute_class_weight\n",
    "import numpy as np\n",
    "import matplotlib.pyplot as plt\n",
    "import seaborn as sns\n",
    "from scipy.stats import mode"
   ]
  },
  {
   "cell_type": "code",
   "execution_count": 2,
   "id": "5217e3b1-a552-4a55-a9f2-ca50f0b4ae12",
   "metadata": {},
   "outputs": [
    {
     "name": "stdout",
     "output_type": "stream",
     "text": [
      "Index(['Iteration', 'Hash Function', 'Speed (s)', 'Collisions',\n",
      "       'Per-Image Resistance', 'Second-per-Image Resistance (s)', 'Entropy',\n",
      "       'Memory Usage (MiB)', 'Efficiency Score'],\n",
      "      dtype='object')\n"
     ]
    }
   ],
   "source": [
    "# -------------------------- Data Loading and Preprocessing --------------------------\n",
    "\n",
    "# Load the dataset\n",
    "file_path = r'D:\\hash_functions_results.csv'  # Adjust as necessary\n",
    "hash_functions_df = pd.read_csv(file_path)\n",
    "\n",
    "# Print column names to ensure they match expected names\n",
    "print(hash_functions_df.columns)\n",
    "\n",
    "# Encode the 'Hash Function' column\n",
    "label_encoder = LabelEncoder()\n",
    "hash_functions_df['Hash Function'] = label_encoder.fit_transform(hash_functions_df['Hash Function'])\n",
    "\n",
    "# Calculate Resistance to Cryptographic Attacks as the average of Per-Image and Second-Per-Image Resistance\n",
    "hash_functions_df['Resistance to Cryptographic Attacks'] = (\n",
    "    hash_functions_df['Per-Image Resistance'] + hash_functions_df['Second-per-Image Resistance (s)']\n",
    ") / 2\n",
    "\n",
    "# Select the specific columns we need as features\n",
    "X = hash_functions_df[['Collisions', 'Entropy', 'Efficiency Score', 'Resistance to Cryptographic Attacks']]\n",
    "y = hash_functions_df['Hash Function']\n",
    "\n",
    "# Standardize the features\n",
    "scaler = StandardScaler()\n",
    "X_scaled = scaler.fit_transform(X)\n"
   ]
  },
  {
   "cell_type": "code",
   "execution_count": 3,
   "id": "ff89fcc7-1fa0-4240-a4e2-df412d04fae1",
   "metadata": {},
   "outputs": [],
   "source": [
    "# -------------------------- Handle Class Imbalance --------------------------\n",
    "\n",
    "# Calculate class weights to handle imbalance (if any)\n",
    "class_weights = compute_class_weight('balanced', classes=np.unique(y), y=y)\n",
    "class_weight_dict = dict(zip(np.unique(y), class_weights))\n",
    "\n",
    "# Split the dataset into training and test sets\n",
    "X_train, X_test, y_train, y_test = train_test_split(X_scaled, y, test_size=0.2, random_state=42)\n",
    "\n",
    "# Get the number of unique classes for the output layer\n",
    "num_classes = len(label_encoder.classes_)"
   ]
  },
  {
   "cell_type": "code",
   "execution_count": 4,
   "id": "f5468f61-5375-4607-b47e-83d0319b0826",
   "metadata": {},
   "outputs": [],
   "source": [
    "# -------------------------- Model Creation Function --------------------------\n",
    "\n",
    "def create_model(optimizer='adam', learning_rate=0.001):\n",
    "    \"\"\"Creates and compiles a Keras Sequential model.\"\"\"\n",
    "    model = Sequential([\n",
    "        Dense(64, input_dim=X_train.shape[1], kernel_initializer='glorot_uniform', activation='relu'),\n",
    "        Dense(32, kernel_initializer='glorot_uniform', activation='relu'),\n",
    "        Dense(num_classes, kernel_initializer='glorot_uniform', activation='softmax')\n",
    "    ])\n",
    "    \n",
    "    # Choose optimizer\n",
    "    if optimizer == 'adam':\n",
    "        optimizer_instance = tf.keras.optimizers.Adam(learning_rate=learning_rate)\n",
    "    elif optimizer == 'rmsprop':\n",
    "        optimizer_instance = tf.keras.optimizers.RMSprop(learning_rate=learning_rate)\n",
    "    \n",
    "    model.compile(loss='sparse_categorical_crossentropy', optimizer=optimizer_instance, metrics=['accuracy'])\n",
    "    return model"
   ]
  },
  {
   "cell_type": "code",
   "execution_count": 5,
   "id": "35de8127-453f-4e19-9bd8-97231d80a467",
   "metadata": {},
   "outputs": [
    {
     "name": "stderr",
     "output_type": "stream",
     "text": [
      "C:\\Users\\REPA IT SOLUTION\\AppData\\Roaming\\Python\\Python311\\site-packages\\keras\\src\\layers\\core\\dense.py:87: UserWarning: Do not pass an `input_shape`/`input_dim` argument to a layer. When using Sequential models, prefer using an `Input(shape)` object as the first layer in the model instead.\n",
      "  super().__init__(activity_regularizer=activity_regularizer, **kwargs)\n",
      "C:\\Users\\REPA IT SOLUTION\\AppData\\Roaming\\Python\\Python311\\site-packages\\keras\\src\\callbacks\\early_stopping.py:155: UserWarning: Early stopping conditioned on metric `val_loss` which is not available. Available metrics are: accuracy,loss\n",
      "  current = self.get_monitor_value(logs)\n"
     ]
    },
    {
     "name": "stdout",
     "output_type": "stream",
     "text": [
      "Best Accuracy: 100.00%\n",
      "Best Parameters:  {'batch_size': 20, 'epochs': 100, 'model__optimizer': 'adam'}\n"
     ]
    }
   ],
   "source": [
    "# -------------------------- Hyperparameter Tuning with GridSearchCV --------------------------\n",
    "\n",
    "# EarlyStopping callback to prevent overfitting\n",
    "early_stopping = EarlyStopping(monitor='val_loss', patience=10, restore_best_weights=True)\n",
    "\n",
    "# Initialize KerasClassifier with early stopping\n",
    "model = KerasClassifier(\n",
    "    model=create_model, \n",
    "    epochs=100, \n",
    "    batch_size=10, \n",
    "    verbose=0, \n",
    "    callbacks=[early_stopping],\n",
    "    class_weight=class_weight_dict\n",
    ")\n",
    "\n",
    "# Define parameter grid for GridSearchCV\n",
    "param_grid = {\n",
    "    'model__optimizer': ['adam', 'rmsprop'],\n",
    "    'epochs': [50, 100],\n",
    "    'batch_size': [10, 20]\n",
    "}\n",
    "\n",
    "# Perform GridSearchCV with stratified cross-validation\n",
    "cv = StratifiedKFold(n_splits=5, shuffle=True, random_state=42)\n",
    "grid = GridSearchCV(estimator=model, param_grid=param_grid, cv=cv, scoring='accuracy', n_jobs=-1)\n",
    "grid_result = grid.fit(X_train, y_train)\n",
    "\n",
    "# Display the best parameters and accuracy\n",
    "print(\"Best Accuracy: {:.2f}%\".format(grid_result.best_score_ * 100))\n",
    "print(\"Best Parameters: \", grid_result.best_params_)\n"
   ]
  },
  {
   "cell_type": "code",
   "execution_count": 6,
   "id": "bf073c44-af9c-4ad1-8a0d-337c46e92782",
   "metadata": {},
   "outputs": [
    {
     "name": "stdout",
     "output_type": "stream",
     "text": [
      "\u001b[1m16/16\u001b[0m \u001b[32m━━━━━━━━━━━━━━━━━━━━\u001b[0m\u001b[37m\u001b[0m \u001b[1m0s\u001b[0m 3ms/step\n",
      "\n",
      "Confusion Matrix:\n",
      "[[108   0   0   0   0]\n",
      " [  0 110   0   0   0]\n",
      " [  0   0  92   0   0]\n",
      " [  0   0   0 104   0]\n",
      " [  0   0   0   0  86]]\n",
      "\n",
      "Classification Report:\n",
      "              precision    recall  f1-score   support\n",
      "\n",
      "         MD5       1.00      1.00      1.00       108\n",
      "     SHA-256       1.00      1.00      1.00       110\n",
      "   SHA-3-256       1.00      1.00      1.00        92\n",
      "   SHA-3-512       1.00      1.00      1.00       104\n",
      "     SHA-512       1.00      1.00      1.00        86\n",
      "\n",
      "    accuracy                           1.00       500\n",
      "   macro avg       1.00      1.00      1.00       500\n",
      "weighted avg       1.00      1.00      1.00       500\n",
      "\n"
     ]
    }
   ],
   "source": [
    "# -------------------------- Model Evaluation --------------------------\n",
    "\n",
    "# Get the best model from the grid search\n",
    "best_model = grid_result.best_estimator_\n",
    "\n",
    "# Predict on the test set\n",
    "y_pred = best_model.model_.predict(X_test).argmax(axis=1)\n",
    "\n",
    "# Confusion Matrix and Classification Report\n",
    "print(\"\\nConfusion Matrix:\")\n",
    "print(confusion_matrix(y_test, y_pred))\n",
    "\n",
    "print(\"\\nClassification Report:\")\n",
    "print(classification_report(y_test, y_pred, target_names=label_encoder.classes_))\n"
   ]
  },
  {
   "cell_type": "code",
   "execution_count": 7,
   "id": "bdef3649-4b16-4c75-b8d8-96e755ca84c0",
   "metadata": {},
   "outputs": [
    {
     "name": "stderr",
     "output_type": "stream",
     "text": [
      "WARNING:absl:You are saving your model as an HDF5 file via `model.save()` or `keras.saving.save_model(model)`. This file format is considered legacy. We recommend using instead the native Keras format, e.g. `model.save('my_model.keras')` or `keras.saving.save_model(model, 'my_model.keras')`. \n"
     ]
    },
    {
     "name": "stdout",
     "output_type": "stream",
     "text": [
      "\n",
      "Model saved as 'best_hash_classifier_model.h5'\n"
     ]
    }
   ],
   "source": [
    "# -------------------------- Save the Best Model --------------------------\n",
    "\n",
    "# Save the best model to a file\n",
    "best_model.model_.save(\"best_hash_classifier_model.h5\")\n",
    "print(\"\\nModel saved as 'best_hash_classifier_model.h5'\")\n"
   ]
  },
  {
   "cell_type": "code",
   "execution_count": 8,
   "id": "5877891f-0a2f-4b93-ae84-e8fc9afe65c8",
   "metadata": {
    "scrolled": true
   },
   "outputs": [
    {
     "data": {
      "image/png": "[encoded data removed]",
      "text/plain": [
       "<Figure size 300x200 with 2 Axes>"
      ]
     },
     "metadata": {},
     "output_type": "display_data"
    }
   ],
   "source": [
    "# -------------------------- Visualizing the Results --------------------------\n",
    "\n",
    "# Plot the confusion matrix\n",
    "conf_matrix = confusion_matrix(y_test, y_pred)\n",
    "plt.figure(figsize=(3, 2))\n",
    "sns.heatmap(conf_matrix, annot=True, fmt=\"d\", cmap=\"Blues\", xticklabels=label_encoder.classes_, yticklabels=label_encoder.classes_)\n",
    "plt.xlabel('Predicted')\n",
    "plt.ylabel('True')\n",
    "plt.title('Confusion Matrix')\n",
    "plt.show()"
   ]
  },
  {
   "cell_type": "code",
   "execution_count": 9,
   "id": "e61ac7c3-375c-4e2d-8376-8f50795993d4",
   "metadata": {},
   "outputs": [
    {
     "name": "stdout",
     "output_type": "stream",
     "text": [
      "\u001b[1m16/16\u001b[0m \u001b[32m━━━━━━━━━━━━━━━━━━━━\u001b[0m\u001b[37m\u001b[0m \u001b[1m0s\u001b[0m 5ms/step \n",
      "\n",
      "Optimal Hash Function based on classification results:  SHA-256\n"
     ]
    }
   ],
   "source": [
    "# -------------------------- Determine the Optimal Hash Function --------------------------\n",
    "# Decode the predicted labels\n",
    "y_pred = best_model.model_.predict(X_test).argmax(axis=1)\n",
    "\n",
    "# Get the mode of predictions (most frequent predicted class)\n",
    "# We add a condition to handle cases where mode returns a scalar\n",
    "optimal_hash_function_index = mode(y_pred).mode\n",
    "if isinstance(optimal_hash_function_index, np.ndarray):\n",
    "    optimal_hash_function_index = optimal_hash_function_index[0]\n",
    "\n",
    "# Decode the optimal hash function index back to its name\n",
    "optimal_hash_function = label_encoder.inverse_transform([optimal_hash_function_index])[0]\n",
    "\n",
    "print(\"\\nOptimal Hash Function based on classification results: \", optimal_hash_function)\n"
   ]
  },
  {
   "cell_type": "code",
   "execution_count": null,
   "id": "a0439aac-26fe-4590-847a-93a592d68d06",
   "metadata": {},
   "outputs": [],
   "source": []
  },
  {
   "cell_type": "code",
   "execution_count": null,
   "id": "e0532c15-3fd9-427e-af20-46d20d8b5240",
   "metadata": {},
   "outputs": [],
   "source": []
  }
 ],
 "metadata": {
  "kernelspec": {
   "display_name": "Python 3 (ipykernel)",
   "language": "python",
   "name": "python3"
  },
  "language_info": {
   "codemirror_mode": {
    "name": "ipython",
    "version": 3
   },
   "file_extension": ".py",
   "mimetype": "text/x-python",
   "name": "python",
   "nbconvert_exporter": "python",
   "pygments_lexer": "ipython3",
   "version": "3.11.10"
  }
 },
 "nbformat": 4,
 "nbformat_minor": 5
}
